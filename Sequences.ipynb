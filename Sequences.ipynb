{
 "cells": [
  {
   "cell_type": "code",
   "execution_count": 1,
   "metadata": {
    "collapsed": true
   },
   "outputs": [],
   "source": [
    "import tensorflow as tf\n",
    "import numpy as np"
   ]
  },
  {
   "cell_type": "markdown",
   "metadata": {},
   "source": [
    "------"
   ]
  },
  {
   "cell_type": "markdown",
   "metadata": {},
   "source": [
    "tf.linspace(start, stop, num, name=None)\n",
    "\n",
    "Генерация значений в указанном интервале.\n",
    "\n",
    "Последовательность значений в количестве равном num. Если num > 1, тогда значения последовательности увеличивается на stop - start / num -1, то есть последнее значение = stop"
   ]
  },
  {
   "cell_type": "code",
   "execution_count": 4,
   "metadata": {
    "collapsed": false
   },
   "outputs": [],
   "source": [
    "a = tf.linspace(10.0,12.0,3,name='linsp')"
   ]
  },
  {
   "cell_type": "code",
   "execution_count": 5,
   "metadata": {
    "collapsed": false
   },
   "outputs": [
    {
     "name": "stdout",
     "output_type": "stream",
     "text": [
      "[ 10.  11.  12.]\n"
     ]
    }
   ],
   "source": [
    "with tf.Session() as sess:\n",
    "    print(sess.run(a))"
   ]
  },
  {
   "cell_type": "markdown",
   "metadata": {},
   "source": [
    "start - Тензор. Должен быть одним из следующих типов: float32, float64. Первое значение в range\n",
    "\n",
    "stop - Тензор. Должен быть аналогичным start типом. Последнее значение в range\n",
    "\n",
    "num - Тензор. Должен быть одним из следующих типов: int32, int64.Количество сгенерированных значений в последовательности.\n",
    "\n",
    "name - имя операции. Опционально"
   ]
  },
  {
   "cell_type": "markdown",
   "metadata": {},
   "source": [
    "------"
   ]
  },
  {
   "cell_type": "markdown",
   "metadata": {},
   "source": [
    "tf.range(start, limit=None, delta=1, dtype=None, name='range')\n",
    "\n",
    "Создаёт последовательность значений.\n",
    "Создаёт тензор типа dtype последовательности начинающейся со start с инкрементом равным delta и заканчивающимся значением меньшим limit. limit в диапазон не входит. "
   ]
  },
  {
   "cell_type": "code",
   "execution_count": 29,
   "metadata": {
    "collapsed": false
   },
   "outputs": [],
   "source": [
    "a = tf.range(start=3, limit=18, delta=3) \n",
    "# b = tf.range([3],[1],-0.5) (начиная с версии 0.12)\n",
    "c = tf.range(5)\n",
    "d = tf.range(3,4,5)"
   ]
  },
  {
   "cell_type": "code",
   "execution_count": 30,
   "metadata": {
    "collapsed": false
   },
   "outputs": [
    {
     "name": "stdout",
     "output_type": "stream",
     "text": [
      "[ 3  6  9 12 15] [0 1 2 3 4] [3]\n"
     ]
    }
   ],
   "source": [
    "with tf.Session() as sess:\n",
    "    print(sess.run(a),sess.run(c),sess.run(d))"
   ]
  },
  {
   "cell_type": "markdown",
   "metadata": {},
   "source": [
    "start - 0-D Тензор (скаляр). По умолчанию значение - 0. Первый элемент range\n",
    "\n",
    "limit - 0-D Тензор (скаляр). Верхний лимит последовательности. Если не задан явно -то п/ринимает указанное значение (см. пример с)\n",
    "\n",
    "delta - 0-D Тензор (скаляр). Значение на которое происходит инекремент. По умолчанию - 1.\n",
    "\n",
    "dtype - Тип элементов результирующего тензора\n",
    "\n",
    "name - имя операции.Опционально. Если явно не задано - то 'range'"
   ]
  },
  {
   "cell_type": "code",
   "execution_count": null,
   "metadata": {
    "collapsed": true
   },
   "outputs": [],
   "source": []
  }
 ],
 "metadata": {
  "kernelspec": {
   "display_name": "Python 3",
   "language": "python",
   "name": "python3"
  },
  "language_info": {
   "codemirror_mode": {
    "name": "ipython",
    "version": 3
   },
   "file_extension": ".py",
   "mimetype": "text/x-python",
   "name": "python",
   "nbconvert_exporter": "python",
   "pygments_lexer": "ipython3",
   "version": "3.4.5"
  }
 },
 "nbformat": 4,
 "nbformat_minor": 0
}
