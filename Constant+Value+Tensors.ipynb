{
 "cells": [
  {
   "cell_type": "code",
   "execution_count": 37,
   "metadata": {
    "collapsed": true
   },
   "outputs": [],
   "source": [
    "import tensorflow as tf\n",
    "import numpy as np"
   ]
  },
  {
   "cell_type": "markdown",
   "metadata": {},
   "source": [
    "------"
   ]
  },
  {
   "cell_type": "markdown",
   "metadata": {},
   "source": [
    "## tf.zeros(shape, dtype=tf.float32, name=None)\n",
    "\n",
    "Создаём тензор заданной формы со всеми элементами равными нулю\n",
    "\n",
    "Например: "
   ]
  },
  {
   "cell_type": "code",
   "execution_count": 78,
   "metadata": {
    "collapsed": false
   },
   "outputs": [],
   "source": [
    "a = tf.zeros([3, 4], tf.int16, 'Zeros')"
   ]
  },
  {
   "cell_type": "code",
   "execution_count": 79,
   "metadata": {
    "collapsed": false,
    "scrolled": true
   },
   "outputs": [
    {
     "name": "stdout",
     "output_type": "stream",
     "text": [
      "[[0 0 0 0]\n",
      " [0 0 0 0]\n",
      " [0 0 0 0]]\n"
     ]
    }
   ],
   "source": [
    "with tf.Session() as sess:\n",
    "    print(sess.run(a))"
   ]
  },
  {
   "cell_type": "markdown",
   "metadata": {},
   "source": [
    "  ### Параметры:\n",
    "  shape - форма тензора;\n",
    "  \n",
    "  dtype - один из типов;\n",
    "  \n",
    "  name - имя операции в графе\n",
    "  \n",
    "  * `tf.float16`: 16-bit half-precision floating-point.\n",
    "  * `tf.float32`: 32-bit single-precision floating-point.\n",
    "  * `tf.float64`: 64-bit double-precision floating-point.\n",
    "  * `tf.complex64`: 64-bit single-precision complex.\n",
    "  * `tf.complex128`: 128-bit double-precision complex.\n",
    "  * `tf.int8`: 8-bit signed integer.\n",
    "  * `tf.uint8`: 8-bit unsigned integer.\n",
    "  * `tf.uint16`: 16-bit unsigned integer.\n",
    "  * `tf.int16`: 16-bit signed integer.\n",
    "  * `tf.int32`: 32-bit signed integer.\n",
    "  * `tf.int64`: 64-bit signed integer.\n"
   ]
  },
  {
   "cell_type": "code",
   "execution_count": 80,
   "metadata": {
    "collapsed": false
   },
   "outputs": [
    {
     "name": "stdout",
     "output_type": "stream",
     "text": [
      "['Zeros']\n"
     ]
    }
   ],
   "source": [
    "print([t.name for t in tf.get_default_graph().get_operations()])"
   ]
  },
  {
   "cell_type": "markdown",
   "metadata": {},
   "source": [
    "------"
   ]
  },
  {
   "cell_type": "markdown",
   "metadata": {},
   "source": [
    "## tf.zeros_like(tensor, dtype=None, name=None, optimize=True)\n",
    "\n",
    "Создаём тензор аналогичный исходному, но со всеми элементами равными нулю\n",
    "\n",
    "Например: "
   ]
  },
  {
   "cell_type": "code",
   "execution_count": 44,
   "metadata": {
    "collapsed": true
   },
   "outputs": [],
   "source": [
    "a1= np.array([[1,2],[3,4]])"
   ]
  },
  {
   "cell_type": "code",
   "execution_count": 45,
   "metadata": {
    "collapsed": true
   },
   "outputs": [],
   "source": [
    "a2 = tf.constant(a1)"
   ]
  },
  {
   "cell_type": "code",
   "execution_count": 46,
   "metadata": {
    "collapsed": false
   },
   "outputs": [],
   "source": [
    "a = tf.zeros_like(a2)"
   ]
  },
  {
   "cell_type": "code",
   "execution_count": 47,
   "metadata": {
    "collapsed": false
   },
   "outputs": [
    {
     "name": "stdout",
     "output_type": "stream",
     "text": [
      "[[0 0]\n",
      " [0 0]]\n"
     ]
    }
   ],
   "source": [
    "with tf.Session() as sess:\n",
    "    print(sess.run(a))"
   ]
  },
  {
   "cell_type": "markdown",
   "metadata": {},
   "source": [
    "### Параметры:\n",
    "tensor - исходный тензор(шаблон)\n",
    "\n",
    "dtype - Тип для возвращаемого тензора. Должен быть одним из: \n",
    "* float32, \n",
    "* float64, \n",
    "* int8, \n",
    "* int16, \n",
    "* int32, \n",
    "* int64, \n",
    "* uint8, \n",
    "* complex64, \n",
    "* complex128\n",
    "name - имя операции в графе(опционально)\n",
    "\n",
    "optimize - принимает значение true и false. В случае, если true - форма тензора будет статически заменена на константу. "
   ]
  },
  {
   "cell_type": "markdown",
   "metadata": {},
   "source": [
    "------"
   ]
  },
  {
   "cell_type": "markdown",
   "metadata": {},
   "source": [
    "## tf.ones(shape, dtype=tf.float32, name=None)\n",
    "\n",
    "Создаём тензор заданной формы со всеми элементами равными единице\n",
    "\n",
    "Например: "
   ]
  },
  {
   "cell_type": "code",
   "execution_count": 50,
   "metadata": {
    "collapsed": true
   },
   "outputs": [],
   "source": [
    "a = tf.ones([3, 4], tf.int32, 'Ones')"
   ]
  },
  {
   "cell_type": "code",
   "execution_count": 51,
   "metadata": {
    "collapsed": false
   },
   "outputs": [
    {
     "name": "stdout",
     "output_type": "stream",
     "text": [
      "[[1 1 1 1]\n",
      " [1 1 1 1]\n",
      " [1 1 1 1]]\n"
     ]
    }
   ],
   "source": [
    "with tf.Session() as sess:\n",
    "    print(sess.run(a))"
   ]
  },
  {
   "cell_type": "markdown",
   "metadata": {},
   "source": [
    "  ### Параметры:\n",
    "  shape - форма тензора;\n",
    "  \n",
    "  dtype - один из типов tf из списка ниже;\n",
    "  \n",
    "  name - имя операции в графе\n",
    "  \n",
    "  * `tf.float16`: 16-bit half-precision floating-point.\n",
    "  * `tf.float32`: 32-bit single-precision floating-point.\n",
    "  * `tf.float64`: 64-bit double-precision floating-point.\n",
    "  * `tf.complex64`: 64-bit single-precision complex.\n",
    "  * `tf.complex128`: 128-bit double-precision complex.\n",
    "  * `tf.int8`: 8-bit signed integer.\n",
    "  * `tf.uint8`: 8-bit unsigned integer.\n",
    "  * `tf.uint16`: 16-bit unsigned integer.\n",
    "  * `tf.int16`: 16-bit signed integer.\n",
    "  * `tf.int32`: 32-bit signed integer.\n",
    "  * `tf.int64`: 64-bit signed integer.\n"
   ]
  },
  {
   "cell_type": "markdown",
   "metadata": {},
   "source": [
    "------"
   ]
  },
  {
   "cell_type": "markdown",
   "metadata": {},
   "source": [
    "## tf.ones_like(tensor, dtype=None, name=None, optimize=True)\n",
    "\n",
    "Создаём тензор аналогичный исходному, но со всеми элементами равными единице\n",
    "\n",
    "Например: "
   ]
  },
  {
   "cell_type": "code",
   "execution_count": 81,
   "metadata": {
    "collapsed": true
   },
   "outputs": [],
   "source": [
    "a1= np.array([[1,2],[3,4]])\n",
    "a2 = tf.constant(a1)\n",
    "a = tf.ones_like(a2)"
   ]
  },
  {
   "cell_type": "code",
   "execution_count": 82,
   "metadata": {
    "collapsed": false
   },
   "outputs": [
    {
     "name": "stdout",
     "output_type": "stream",
     "text": [
      "[[1 1]\n",
      " [1 1]]\n"
     ]
    }
   ],
   "source": [
    "with tf.Session() as sess:\n",
    "    print(sess.run(a))"
   ]
  },
  {
   "cell_type": "markdown",
   "metadata": {},
   "source": [
    "### Параметры:\n",
    "tensor - исходный тензор(шаблон)\n",
    "\n",
    "dtype - Тип для возвращаемого тензора. Должен быть одним из: \n",
    "* float32, \n",
    "* float64, \n",
    "* int8, \n",
    "* int16, \n",
    "* int32, \n",
    "* int64, \n",
    "* uint8, \n",
    "* complex64, \n",
    "* complex128\n",
    "name - имя операции в графе(опционально)\n",
    "\n",
    "optimize - принимает значение true и false. В случае, если true - форма тензора будет статически заменена на константу. "
   ]
  },
  {
   "cell_type": "markdown",
   "metadata": {},
   "source": [
    "#### Если тип явно не задан - наследуется из исходного тензора:"
   ]
  },
  {
   "cell_type": "code",
   "execution_count": 90,
   "metadata": {
    "collapsed": false
   },
   "outputs": [
    {
     "data": {
      "text/plain": [
       "<tf.Tensor 'ones_like:0' shape=(2, 2) dtype=int64>"
      ]
     },
     "execution_count": 90,
     "metadata": {},
     "output_type": "execute_result"
    }
   ],
   "source": [
    "a"
   ]
  },
  {
   "cell_type": "code",
   "execution_count": 91,
   "metadata": {
    "collapsed": false
   },
   "outputs": [
    {
     "data": {
      "text/plain": [
       "dtype('int64')"
      ]
     },
     "execution_count": 91,
     "metadata": {},
     "output_type": "execute_result"
    }
   ],
   "source": [
    "a1.dtype"
   ]
  },
  {
   "cell_type": "markdown",
   "metadata": {},
   "source": [
    "------"
   ]
  },
  {
   "cell_type": "markdown",
   "metadata": {},
   "source": [
    "## tf.fill(dims, value, name=None)\n",
    "\n",
    "Создаём тензор заполненный скалярным значением \n",
    "\n",
    "Например:"
   ]
  },
  {
   "cell_type": "code",
   "execution_count": 93,
   "metadata": {
    "collapsed": true
   },
   "outputs": [],
   "source": [
    "a = tf.fill([2, 3], 9)"
   ]
  },
  {
   "cell_type": "code",
   "execution_count": 94,
   "metadata": {
    "collapsed": false
   },
   "outputs": [
    {
     "name": "stdout",
     "output_type": "stream",
     "text": [
      "[[9 9 9]\n",
      " [9 9 9]]\n"
     ]
    }
   ],
   "source": [
    "with tf.Session() as sess:\n",
    "    print(sess.run(a))"
   ]
  },
  {
   "cell_type": "markdown",
   "metadata": {},
   "source": [
    "dims -  Тензор типа int32. 1-D. Либо форма тензора - его shape.\n",
    "\n",
    "value -  Тензор. 0-D (скаляр). Значение, которым необходимо заполнить.\n",
    "\n",
    "@compatibility(numpy) эквивалентно np.full @end_compatibility\n",
    "\n",
    "name - имя операции в графе"
   ]
  },
  {
   "cell_type": "code",
   "execution_count": 106,
   "metadata": {
    "collapsed": false
   },
   "outputs": [],
   "source": [
    "a2=tf.constant([2,2],dtype=tf.int32)"
   ]
  },
  {
   "cell_type": "code",
   "execution_count": 107,
   "metadata": {
    "collapsed": false
   },
   "outputs": [],
   "source": [
    "a=tf.fill(a2,9)"
   ]
  },
  {
   "cell_type": "code",
   "execution_count": 108,
   "metadata": {
    "collapsed": false
   },
   "outputs": [
    {
     "name": "stdout",
     "output_type": "stream",
     "text": [
      "[[9 9]\n",
      " [9 9]]\n"
     ]
    }
   ],
   "source": [
    "with tf.Session() as sess:\n",
    "    print(sess.run(a))"
   ]
  },
  {
   "cell_type": "markdown",
   "metadata": {},
   "source": [
    "-----"
   ]
  },
  {
   "cell_type": "markdown",
   "metadata": {},
   "source": [
    "## tf.constant(value, dtype=None, shape=None, name='Const', verify_shape=False)"
   ]
  },
  {
   "cell_type": "markdown",
   "metadata": {},
   "source": [
    "Создаём тензор констант.\n",
    "\n",
    "Результирующий тензор может быть указанной формы(N-мерным) и заполнен указанным значением. \n",
    "\n",
    "Аргумент value может быть константой или списком значений типа dtype. Если value - это список, тогда длина списка должна быть меньше или равно количеству элементов указанных в параметре shape. Если количество элементов списка меньше количества элементов указанных в shape - тогда последний элемент списка будет размножен. \n",
    "\n",
    "Аргумент shape - опционален. Он определеяет форму тензора (количество элементов и измерений). Если он явно не задан, то наследуется из value. \n",
    "\n",
    "Если аргумент dtype не определён явно, тогда тип наследуется из value\n",
    "\n",
    "Например:"
   ]
  },
  {
   "cell_type": "code",
   "execution_count": 117,
   "metadata": {
    "collapsed": true
   },
   "outputs": [],
   "source": [
    "a = tf.constant([1, 2, 3, 4, 5, 6, 7])\n",
    "b = tf.constant(-1.0, shape=[2, 3])\n",
    "c = tf.constant([0,1,2],shape=[3,4])"
   ]
  },
  {
   "cell_type": "code",
   "execution_count": 118,
   "metadata": {
    "collapsed": false
   },
   "outputs": [
    {
     "name": "stdout",
     "output_type": "stream",
     "text": [
      "[1 2 3 4 5 6 7]\n",
      "-------------\n",
      "[[-1. -1. -1.]\n",
      " [-1. -1. -1.]]\n",
      "-------------\n",
      "[[0 1 2 2]\n",
      " [2 2 2 2]\n",
      " [2 2 2 2]]\n"
     ]
    }
   ],
   "source": [
    "with tf.Session() as sess:\n",
    "    print(sess.run(a))\n",
    "    print('-------------')\n",
    "    print(sess.run(b))\n",
    "    print('-------------')\n",
    "    print(sess.run(c))"
   ]
  },
  {
   "cell_type": "markdown",
   "metadata": {
    "collapsed": true
   },
   "source": [
    "value - константа, или список типа dtype\n",
    "\n",
    "dtype - опциональный параметр для определения явного типа результирующего тензора\n",
    "\n",
    "shape - опциональный параметр определяющий форму тензора\n",
    "\n",
    "name - опциональный параметр - имя операции\n",
    "\n",
    "verify_shape - boolean для проверки соответствия формы тензора (0.12)"
   ]
  },
  {
   "cell_type": "code",
   "execution_count": 121,
   "metadata": {
    "collapsed": false
   },
   "outputs": [],
   "source": []
  },
  {
   "cell_type": "code",
   "execution_count": null,
   "metadata": {
    "collapsed": true
   },
   "outputs": [],
   "source": []
  }
 ],
 "metadata": {
  "kernelspec": {
   "display_name": "Python 3",
   "language": "python",
   "name": "python3"
  },
  "language_info": {
   "codemirror_mode": {
    "name": "ipython",
    "version": 3
   },
   "file_extension": ".py",
   "mimetype": "text/x-python",
   "name": "python",
   "nbconvert_exporter": "python",
   "pygments_lexer": "ipython3",
   "version": "3.4.5"
  }
 },
 "nbformat": 4,
 "nbformat_minor": 0
}
